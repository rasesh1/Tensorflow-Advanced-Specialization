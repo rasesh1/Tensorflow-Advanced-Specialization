{
  "nbformat": 4,
  "nbformat_minor": 0,
  "metadata": {
    "accelerator": "GPU",
    "colab": {
      "name": "C3_W4_Lab_2_CatsDogs-CAM.ipynb",
      "provenance": [],
      "collapsed_sections": []
    },
    "kernelspec": {
      "display_name": "Python 3",
      "language": "python",
      "name": "python3"
    },
    "language_info": {
      "codemirror_mode": {
        "name": "ipython",
        "version": 3
      },
      "file_extension": ".py",
      "mimetype": "text/x-python",
      "name": "python",
      "nbconvert_exporter": "python",
      "pygments_lexer": "ipython3",
      "version": "3.7.4"
    },
    "widgets": {
      "application/vnd.jupyter.widget-state+json": {
        "171912c8bb1b4ce19ee8344522142c8b": {
          "model_module": "@jupyter-widgets/controls",
          "model_name": "HBoxModel",
          "state": {
            "_view_name": "HBoxView",
            "_dom_classes": [],
            "_model_name": "HBoxModel",
            "_view_module": "@jupyter-widgets/controls",
            "_model_module_version": "1.5.0",
            "_view_count": null,
            "_view_module_version": "1.5.0",
            "box_style": "",
            "layout": "IPY_MODEL_68f5c65775164249956352d00f91b6a2",
            "_model_module": "@jupyter-widgets/controls",
            "children": [
              "IPY_MODEL_d08e7e0ca31f442aa920f253c62da211",
              "IPY_MODEL_680f3c045008436a9b27ad05fafa9fdb"
            ]
          }
        },
        "68f5c65775164249956352d00f91b6a2": {
          "model_module": "@jupyter-widgets/base",
          "model_name": "LayoutModel",
          "state": {
            "_view_name": "LayoutView",
            "grid_template_rows": null,
            "right": null,
            "justify_content": null,
            "_view_module": "@jupyter-widgets/base",
            "overflow": null,
            "_model_module_version": "1.2.0",
            "_view_count": null,
            "flex_flow": null,
            "width": null,
            "min_width": null,
            "border": null,
            "align_items": null,
            "bottom": null,
            "_model_module": "@jupyter-widgets/base",
            "top": null,
            "grid_column": null,
            "overflow_y": null,
            "overflow_x": null,
            "grid_auto_flow": null,
            "grid_area": null,
            "grid_template_columns": null,
            "flex": null,
            "_model_name": "LayoutModel",
            "justify_items": null,
            "grid_row": null,
            "max_height": null,
            "align_content": null,
            "visibility": null,
            "align_self": null,
            "height": null,
            "min_height": null,
            "padding": null,
            "grid_auto_rows": null,
            "grid_gap": null,
            "max_width": null,
            "order": null,
            "_view_module_version": "1.2.0",
            "grid_template_areas": null,
            "object_position": null,
            "object_fit": null,
            "grid_auto_columns": null,
            "margin": null,
            "display": null,
            "left": null
          }
        },
        "d08e7e0ca31f442aa920f253c62da211": {
          "model_module": "@jupyter-widgets/controls",
          "model_name": "FloatProgressModel",
          "state": {
            "_view_name": "ProgressView",
            "style": "IPY_MODEL_8b6f3facb72a4a1cb6dcbc0eca488c0d",
            "_dom_classes": [],
            "description": "Dl Completed...: 100%",
            "_model_name": "FloatProgressModel",
            "bar_style": "success",
            "max": 1,
            "_view_module": "@jupyter-widgets/controls",
            "_model_module_version": "1.5.0",
            "value": 1,
            "_view_count": null,
            "_view_module_version": "1.5.0",
            "orientation": "horizontal",
            "min": 0,
            "description_tooltip": null,
            "_model_module": "@jupyter-widgets/controls",
            "layout": "IPY_MODEL_254064dad9ba40b6ba1a3910eefd73b9"
          }
        },
        "680f3c045008436a9b27ad05fafa9fdb": {
          "model_module": "@jupyter-widgets/controls",
          "model_name": "HTMLModel",
          "state": {
            "_view_name": "HTMLView",
            "style": "IPY_MODEL_4f65bddbc0c24c2db31d111589aec347",
            "_dom_classes": [],
            "description": "",
            "_model_name": "HTMLModel",
            "placeholder": "​",
            "_view_module": "@jupyter-widgets/controls",
            "_model_module_version": "1.5.0",
            "value": " 1/1 [00:09&lt;00:00,  9.57s/ url]",
            "_view_count": null,
            "_view_module_version": "1.5.0",
            "description_tooltip": null,
            "_model_module": "@jupyter-widgets/controls",
            "layout": "IPY_MODEL_c4eaf6f3f9504f99a4985c8e025583b4"
          }
        },
        "8b6f3facb72a4a1cb6dcbc0eca488c0d": {
          "model_module": "@jupyter-widgets/controls",
          "model_name": "ProgressStyleModel",
          "state": {
            "_view_name": "StyleView",
            "_model_name": "ProgressStyleModel",
            "description_width": "initial",
            "_view_module": "@jupyter-widgets/base",
            "_model_module_version": "1.5.0",
            "_view_count": null,
            "_view_module_version": "1.2.0",
            "bar_color": null,
            "_model_module": "@jupyter-widgets/controls"
          }
        },
        "254064dad9ba40b6ba1a3910eefd73b9": {
          "model_module": "@jupyter-widgets/base",
          "model_name": "LayoutModel",
          "state": {
            "_view_name": "LayoutView",
            "grid_template_rows": null,
            "right": null,
            "justify_content": null,
            "_view_module": "@jupyter-widgets/base",
            "overflow": null,
            "_model_module_version": "1.2.0",
            "_view_count": null,
            "flex_flow": null,
            "width": null,
            "min_width": null,
            "border": null,
            "align_items": null,
            "bottom": null,
            "_model_module": "@jupyter-widgets/base",
            "top": null,
            "grid_column": null,
            "overflow_y": null,
            "overflow_x": null,
            "grid_auto_flow": null,
            "grid_area": null,
            "grid_template_columns": null,
            "flex": null,
            "_model_name": "LayoutModel",
            "justify_items": null,
            "grid_row": null,
            "max_height": null,
            "align_content": null,
            "visibility": null,
            "align_self": null,
            "height": null,
            "min_height": null,
            "padding": null,
            "grid_auto_rows": null,
            "grid_gap": null,
            "max_width": null,
            "order": null,
            "_view_module_version": "1.2.0",
            "grid_template_areas": null,
            "object_position": null,
            "object_fit": null,
            "grid_auto_columns": null,
            "margin": null,
            "display": null,
            "left": null
          }
        },
        "4f65bddbc0c24c2db31d111589aec347": {
          "model_module": "@jupyter-widgets/controls",
          "model_name": "DescriptionStyleModel",
          "state": {
            "_view_name": "StyleView",
            "_model_name": "DescriptionStyleModel",
            "description_width": "",
            "_view_module": "@jupyter-widgets/base",
            "_model_module_version": "1.5.0",
            "_view_count": null,
            "_view_module_version": "1.2.0",
            "_model_module": "@jupyter-widgets/controls"
          }
        },
        "c4eaf6f3f9504f99a4985c8e025583b4": {
          "model_module": "@jupyter-widgets/base",
          "model_name": "LayoutModel",
          "state": {
            "_view_name": "LayoutView",
            "grid_template_rows": null,
            "right": null,
            "justify_content": null,
            "_view_module": "@jupyter-widgets/base",
            "overflow": null,
            "_model_module_version": "1.2.0",
            "_view_count": null,
            "flex_flow": null,
            "width": null,
            "min_width": null,
            "border": null,
            "align_items": null,
            "bottom": null,
            "_model_module": "@jupyter-widgets/base",
            "top": null,
            "grid_column": null,
            "overflow_y": null,
            "overflow_x": null,
            "grid_auto_flow": null,
            "grid_area": null,
            "grid_template_columns": null,
            "flex": null,
            "_model_name": "LayoutModel",
            "justify_items": null,
            "grid_row": null,
            "max_height": null,
            "align_content": null,
            "visibility": null,
            "align_self": null,
            "height": null,
            "min_height": null,
            "padding": null,
            "grid_auto_rows": null,
            "grid_gap": null,
            "max_width": null,
            "order": null,
            "_view_module_version": "1.2.0",
            "grid_template_areas": null,
            "object_position": null,
            "object_fit": null,
            "grid_auto_columns": null,
            "margin": null,
            "display": null,
            "left": null
          }
        },
        "312e58350ec84d82bfb6e5a1540fee65": {
          "model_module": "@jupyter-widgets/controls",
          "model_name": "HBoxModel",
          "state": {
            "_view_name": "HBoxView",
            "_dom_classes": [],
            "_model_name": "HBoxModel",
            "_view_module": "@jupyter-widgets/controls",
            "_model_module_version": "1.5.0",
            "_view_count": null,
            "_view_module_version": "1.5.0",
            "box_style": "",
            "layout": "IPY_MODEL_0ef457dca03443c5b679872cb734b3a8",
            "_model_module": "@jupyter-widgets/controls",
            "children": [
              "IPY_MODEL_a66484544b1a43ac9a554b328245cd17",
              "IPY_MODEL_ce1c18350f744da0a21d1ff3435d83db"
            ]
          }
        },
        "0ef457dca03443c5b679872cb734b3a8": {
          "model_module": "@jupyter-widgets/base",
          "model_name": "LayoutModel",
          "state": {
            "_view_name": "LayoutView",
            "grid_template_rows": null,
            "right": null,
            "justify_content": null,
            "_view_module": "@jupyter-widgets/base",
            "overflow": null,
            "_model_module_version": "1.2.0",
            "_view_count": null,
            "flex_flow": null,
            "width": null,
            "min_width": null,
            "border": null,
            "align_items": null,
            "bottom": null,
            "_model_module": "@jupyter-widgets/base",
            "top": null,
            "grid_column": null,
            "overflow_y": null,
            "overflow_x": null,
            "grid_auto_flow": null,
            "grid_area": null,
            "grid_template_columns": null,
            "flex": null,
            "_model_name": "LayoutModel",
            "justify_items": null,
            "grid_row": null,
            "max_height": null,
            "align_content": null,
            "visibility": null,
            "align_self": null,
            "height": null,
            "min_height": null,
            "padding": null,
            "grid_auto_rows": null,
            "grid_gap": null,
            "max_width": null,
            "order": null,
            "_view_module_version": "1.2.0",
            "grid_template_areas": null,
            "object_position": null,
            "object_fit": null,
            "grid_auto_columns": null,
            "margin": null,
            "display": null,
            "left": null
          }
        },
        "a66484544b1a43ac9a554b328245cd17": {
          "model_module": "@jupyter-widgets/controls",
          "model_name": "FloatProgressModel",
          "state": {
            "_view_name": "ProgressView",
            "style": "IPY_MODEL_0fa6906d2cab4669a5ba4ad6d05f4294",
            "_dom_classes": [],
            "description": "Dl Size...: 100%",
            "_model_name": "FloatProgressModel",
            "bar_style": "success",
            "max": 1,
            "_view_module": "@jupyter-widgets/controls",
            "_model_module_version": "1.5.0",
            "value": 1,
            "_view_count": null,
            "_view_module_version": "1.5.0",
            "orientation": "horizontal",
            "min": 0,
            "description_tooltip": null,
            "_model_module": "@jupyter-widgets/controls",
            "layout": "IPY_MODEL_b0f766b8ce934fde9f6233a4b239f1a2"
          }
        },
        "ce1c18350f744da0a21d1ff3435d83db": {
          "model_module": "@jupyter-widgets/controls",
          "model_name": "HTMLModel",
          "state": {
            "_view_name": "HTMLView",
            "style": "IPY_MODEL_7d809f8e06a34eb282c4fe2b8e7c181e",
            "_dom_classes": [],
            "description": "",
            "_model_name": "HTMLModel",
            "placeholder": "​",
            "_view_module": "@jupyter-widgets/controls",
            "_model_module_version": "1.5.0",
            "value": " 786/786 [00:09&lt;00:00, 82.39 MiB/s]",
            "_view_count": null,
            "_view_module_version": "1.5.0",
            "description_tooltip": null,
            "_model_module": "@jupyter-widgets/controls",
            "layout": "IPY_MODEL_1f0cea94ac634f8b8f0ac20bb22116dc"
          }
        },
        "0fa6906d2cab4669a5ba4ad6d05f4294": {
          "model_module": "@jupyter-widgets/controls",
          "model_name": "ProgressStyleModel",
          "state": {
            "_view_name": "StyleView",
            "_model_name": "ProgressStyleModel",
            "description_width": "initial",
            "_view_module": "@jupyter-widgets/base",
            "_model_module_version": "1.5.0",
            "_view_count": null,
            "_view_module_version": "1.2.0",
            "bar_color": null,
            "_model_module": "@jupyter-widgets/controls"
          }
        },
        "b0f766b8ce934fde9f6233a4b239f1a2": {
          "model_module": "@jupyter-widgets/base",
          "model_name": "LayoutModel",
          "state": {
            "_view_name": "LayoutView",
            "grid_template_rows": null,
            "right": null,
            "justify_content": null,
            "_view_module": "@jupyter-widgets/base",
            "overflow": null,
            "_model_module_version": "1.2.0",
            "_view_count": null,
            "flex_flow": null,
            "width": null,
            "min_width": null,
            "border": null,
            "align_items": null,
            "bottom": null,
            "_model_module": "@jupyter-widgets/base",
            "top": null,
            "grid_column": null,
            "overflow_y": null,
            "overflow_x": null,
            "grid_auto_flow": null,
            "grid_area": null,
            "grid_template_columns": null,
            "flex": null,
            "_model_name": "LayoutModel",
            "justify_items": null,
            "grid_row": null,
            "max_height": null,
            "align_content": null,
            "visibility": null,
            "align_self": null,
            "height": null,
            "min_height": null,
            "padding": null,
            "grid_auto_rows": null,
            "grid_gap": null,
            "max_width": null,
            "order": null,
            "_view_module_version": "1.2.0",
            "grid_template_areas": null,
            "object_position": null,
            "object_fit": null,
            "grid_auto_columns": null,
            "margin": null,
            "display": null,
            "left": null
          }
        },
        "7d809f8e06a34eb282c4fe2b8e7c181e": {
          "model_module": "@jupyter-widgets/controls",
          "model_name": "DescriptionStyleModel",
          "state": {
            "_view_name": "StyleView",
            "_model_name": "DescriptionStyleModel",
            "description_width": "",
            "_view_module": "@jupyter-widgets/base",
            "_model_module_version": "1.5.0",
            "_view_count": null,
            "_view_module_version": "1.2.0",
            "_model_module": "@jupyter-widgets/controls"
          }
        },
        "1f0cea94ac634f8b8f0ac20bb22116dc": {
          "model_module": "@jupyter-widgets/base",
          "model_name": "LayoutModel",
          "state": {
            "_view_name": "LayoutView",
            "grid_template_rows": null,
            "right": null,
            "justify_content": null,
            "_view_module": "@jupyter-widgets/base",
            "overflow": null,
            "_model_module_version": "1.2.0",
            "_view_count": null,
            "flex_flow": null,
            "width": null,
            "min_width": null,
            "border": null,
            "align_items": null,
            "bottom": null,
            "_model_module": "@jupyter-widgets/base",
            "top": null,
            "grid_column": null,
            "overflow_y": null,
            "overflow_x": null,
            "grid_auto_flow": null,
            "grid_area": null,
            "grid_template_columns": null,
            "flex": null,
            "_model_name": "LayoutModel",
            "justify_items": null,
            "grid_row": null,
            "max_height": null,
            "align_content": null,
            "visibility": null,
            "align_self": null,
            "height": null,
            "min_height": null,
            "padding": null,
            "grid_auto_rows": null,
            "grid_gap": null,
            "max_width": null,
            "order": null,
            "_view_module_version": "1.2.0",
            "grid_template_areas": null,
            "object_position": null,
            "object_fit": null,
            "grid_auto_columns": null,
            "margin": null,
            "display": null,
            "left": null
          }
        },
        "7d76406a6429448a86a5b5da80e5f54e": {
          "model_module": "@jupyter-widgets/controls",
          "model_name": "HBoxModel",
          "state": {
            "_view_name": "HBoxView",
            "_dom_classes": [],
            "_model_name": "HBoxModel",
            "_view_module": "@jupyter-widgets/controls",
            "_model_module_version": "1.5.0",
            "_view_count": null,
            "_view_module_version": "1.5.0",
            "box_style": "",
            "layout": "IPY_MODEL_6215e2e3c9044e9590c5945d83aa8bc0",
            "_model_module": "@jupyter-widgets/controls",
            "children": [
              "IPY_MODEL_bb5c8d7136a7495fadb5333729ca7306",
              "IPY_MODEL_1ca79d660dfe474db62d67696bcad1c9"
            ]
          }
        },
        "6215e2e3c9044e9590c5945d83aa8bc0": {
          "model_module": "@jupyter-widgets/base",
          "model_name": "LayoutModel",
          "state": {
            "_view_name": "LayoutView",
            "grid_template_rows": null,
            "right": null,
            "justify_content": null,
            "_view_module": "@jupyter-widgets/base",
            "overflow": null,
            "_model_module_version": "1.2.0",
            "_view_count": null,
            "flex_flow": null,
            "width": null,
            "min_width": null,
            "border": null,
            "align_items": null,
            "bottom": null,
            "_model_module": "@jupyter-widgets/base",
            "top": null,
            "grid_column": null,
            "overflow_y": null,
            "overflow_x": null,
            "grid_auto_flow": null,
            "grid_area": null,
            "grid_template_columns": null,
            "flex": null,
            "_model_name": "LayoutModel",
            "justify_items": null,
            "grid_row": null,
            "max_height": null,
            "align_content": null,
            "visibility": null,
            "align_self": null,
            "height": null,
            "min_height": null,
            "padding": null,
            "grid_auto_rows": null,
            "grid_gap": null,
            "max_width": null,
            "order": null,
            "_view_module_version": "1.2.0",
            "grid_template_areas": null,
            "object_position": null,
            "object_fit": null,
            "grid_auto_columns": null,
            "margin": null,
            "display": null,
            "left": null
          }
        },
        "bb5c8d7136a7495fadb5333729ca7306": {
          "model_module": "@jupyter-widgets/controls",
          "model_name": "FloatProgressModel",
          "state": {
            "_view_name": "ProgressView",
            "style": "IPY_MODEL_dab22a5fc50a45d6b032f332be1af505",
            "_dom_classes": [],
            "description": "",
            "_model_name": "FloatProgressModel",
            "bar_style": "info",
            "max": 1,
            "_view_module": "@jupyter-widgets/controls",
            "_model_module_version": "1.5.0",
            "value": 1,
            "_view_count": null,
            "_view_module_version": "1.5.0",
            "orientation": "horizontal",
            "min": 0,
            "description_tooltip": null,
            "_model_module": "@jupyter-widgets/controls",
            "layout": "IPY_MODEL_e16b65af63774a2db6b28ae50dc820e4"
          }
        },
        "1ca79d660dfe474db62d67696bcad1c9": {
          "model_module": "@jupyter-widgets/controls",
          "model_name": "HTMLModel",
          "state": {
            "_view_name": "HTMLView",
            "style": "IPY_MODEL_426052e32e2b4aa9ab855d7557edf5b7",
            "_dom_classes": [],
            "description": "",
            "_model_name": "HTMLModel",
            "placeholder": "​",
            "_view_module": "@jupyter-widgets/controls",
            "_model_module_version": "1.5.0",
            "value": " 23262/0 [00:12&lt;00:00, 1956.34 examples/s]",
            "_view_count": null,
            "_view_module_version": "1.5.0",
            "description_tooltip": null,
            "_model_module": "@jupyter-widgets/controls",
            "layout": "IPY_MODEL_3d6c50d435df4cfba5c28c1ff857c4d3"
          }
        },
        "dab22a5fc50a45d6b032f332be1af505": {
          "model_module": "@jupyter-widgets/controls",
          "model_name": "ProgressStyleModel",
          "state": {
            "_view_name": "StyleView",
            "_model_name": "ProgressStyleModel",
            "description_width": "initial",
            "_view_module": "@jupyter-widgets/base",
            "_model_module_version": "1.5.0",
            "_view_count": null,
            "_view_module_version": "1.2.0",
            "bar_color": null,
            "_model_module": "@jupyter-widgets/controls"
          }
        },
        "e16b65af63774a2db6b28ae50dc820e4": {
          "model_module": "@jupyter-widgets/base",
          "model_name": "LayoutModel",
          "state": {
            "_view_name": "LayoutView",
            "grid_template_rows": null,
            "right": null,
            "justify_content": null,
            "_view_module": "@jupyter-widgets/base",
            "overflow": null,
            "_model_module_version": "1.2.0",
            "_view_count": null,
            "flex_flow": null,
            "width": null,
            "min_width": null,
            "border": null,
            "align_items": null,
            "bottom": null,
            "_model_module": "@jupyter-widgets/base",
            "top": null,
            "grid_column": null,
            "overflow_y": null,
            "overflow_x": null,
            "grid_auto_flow": null,
            "grid_area": null,
            "grid_template_columns": null,
            "flex": null,
            "_model_name": "LayoutModel",
            "justify_items": null,
            "grid_row": null,
            "max_height": null,
            "align_content": null,
            "visibility": null,
            "align_self": null,
            "height": null,
            "min_height": null,
            "padding": null,
            "grid_auto_rows": null,
            "grid_gap": null,
            "max_width": null,
            "order": null,
            "_view_module_version": "1.2.0",
            "grid_template_areas": null,
            "object_position": null,
            "object_fit": null,
            "grid_auto_columns": null,
            "margin": null,
            "display": null,
            "left": null
          }
        },
        "426052e32e2b4aa9ab855d7557edf5b7": {
          "model_module": "@jupyter-widgets/controls",
          "model_name": "DescriptionStyleModel",
          "state": {
            "_view_name": "StyleView",
            "_model_name": "DescriptionStyleModel",
            "description_width": "",
            "_view_module": "@jupyter-widgets/base",
            "_model_module_version": "1.5.0",
            "_view_count": null,
            "_view_module_version": "1.2.0",
            "_model_module": "@jupyter-widgets/controls"
          }
        },
        "3d6c50d435df4cfba5c28c1ff857c4d3": {
          "model_module": "@jupyter-widgets/base",
          "model_name": "LayoutModel",
          "state": {
            "_view_name": "LayoutView",
            "grid_template_rows": null,
            "right": null,
            "justify_content": null,
            "_view_module": "@jupyter-widgets/base",
            "overflow": null,
            "_model_module_version": "1.2.0",
            "_view_count": null,
            "flex_flow": null,
            "width": null,
            "min_width": null,
            "border": null,
            "align_items": null,
            "bottom": null,
            "_model_module": "@jupyter-widgets/base",
            "top": null,
            "grid_column": null,
            "overflow_y": null,
            "overflow_x": null,
            "grid_auto_flow": null,
            "grid_area": null,
            "grid_template_columns": null,
            "flex": null,
            "_model_name": "LayoutModel",
            "justify_items": null,
            "grid_row": null,
            "max_height": null,
            "align_content": null,
            "visibility": null,
            "align_self": null,
            "height": null,
            "min_height": null,
            "padding": null,
            "grid_auto_rows": null,
            "grid_gap": null,
            "max_width": null,
            "order": null,
            "_view_module_version": "1.2.0",
            "grid_template_areas": null,
            "object_position": null,
            "object_fit": null,
            "grid_auto_columns": null,
            "margin": null,
            "display": null,
            "left": null
          }
        },
        "da2d7adc00104172bbc5f55de740afd5": {
          "model_module": "@jupyter-widgets/controls",
          "model_name": "HBoxModel",
          "state": {
            "_view_name": "HBoxView",
            "_dom_classes": [],
            "_model_name": "HBoxModel",
            "_view_module": "@jupyter-widgets/controls",
            "_model_module_version": "1.5.0",
            "_view_count": null,
            "_view_module_version": "1.5.0",
            "box_style": "",
            "layout": "IPY_MODEL_e89a124ea84c4b72842050465d349adb",
            "_model_module": "@jupyter-widgets/controls",
            "children": [
              "IPY_MODEL_6e26403190ae4a198d0ee783c50b48c1",
              "IPY_MODEL_f44d327c9ae84ff79b425c4749235506"
            ]
          }
        },
        "e89a124ea84c4b72842050465d349adb": {
          "model_module": "@jupyter-widgets/base",
          "model_name": "LayoutModel",
          "state": {
            "_view_name": "LayoutView",
            "grid_template_rows": null,
            "right": null,
            "justify_content": null,
            "_view_module": "@jupyter-widgets/base",
            "overflow": null,
            "_model_module_version": "1.2.0",
            "_view_count": null,
            "flex_flow": null,
            "width": null,
            "min_width": null,
            "border": null,
            "align_items": null,
            "bottom": null,
            "_model_module": "@jupyter-widgets/base",
            "top": null,
            "grid_column": null,
            "overflow_y": null,
            "overflow_x": null,
            "grid_auto_flow": null,
            "grid_area": null,
            "grid_template_columns": null,
            "flex": null,
            "_model_name": "LayoutModel",
            "justify_items": null,
            "grid_row": null,
            "max_height": null,
            "align_content": null,
            "visibility": null,
            "align_self": null,
            "height": null,
            "min_height": null,
            "padding": null,
            "grid_auto_rows": null,
            "grid_gap": null,
            "max_width": null,
            "order": null,
            "_view_module_version": "1.2.0",
            "grid_template_areas": null,
            "object_position": null,
            "object_fit": null,
            "grid_auto_columns": null,
            "margin": null,
            "display": null,
            "left": null
          }
        },
        "6e26403190ae4a198d0ee783c50b48c1": {
          "model_module": "@jupyter-widgets/controls",
          "model_name": "FloatProgressModel",
          "state": {
            "_view_name": "ProgressView",
            "style": "IPY_MODEL_8145beef87f74a70959d3ea2018accf3",
            "_dom_classes": [],
            "description": " 99%",
            "_model_name": "FloatProgressModel",
            "bar_style": "danger",
            "max": 23262,
            "_view_module": "@jupyter-widgets/controls",
            "_model_module_version": "1.5.0",
            "value": 22988,
            "_view_count": null,
            "_view_module_version": "1.5.0",
            "orientation": "horizontal",
            "min": 0,
            "description_tooltip": null,
            "_model_module": "@jupyter-widgets/controls",
            "layout": "IPY_MODEL_8907d7c1f1654cb890088f01d032af45"
          }
        },
        "f44d327c9ae84ff79b425c4749235506": {
          "model_module": "@jupyter-widgets/controls",
          "model_name": "HTMLModel",
          "state": {
            "_view_name": "HTMLView",
            "style": "IPY_MODEL_7b5897821e5849a49fd66225053167d2",
            "_dom_classes": [],
            "description": "",
            "_model_name": "HTMLModel",
            "placeholder": "​",
            "_view_module": "@jupyter-widgets/controls",
            "_model_module_version": "1.5.0",
            "value": " 22988/23262 [00:02&lt;00:00, 7818.88 examples/s]",
            "_view_count": null,
            "_view_module_version": "1.5.0",
            "description_tooltip": null,
            "_model_module": "@jupyter-widgets/controls",
            "layout": "IPY_MODEL_508ecd3813e74f41a9acc22c4f350335"
          }
        },
        "8145beef87f74a70959d3ea2018accf3": {
          "model_module": "@jupyter-widgets/controls",
          "model_name": "ProgressStyleModel",
          "state": {
            "_view_name": "StyleView",
            "_model_name": "ProgressStyleModel",
            "description_width": "initial",
            "_view_module": "@jupyter-widgets/base",
            "_model_module_version": "1.5.0",
            "_view_count": null,
            "_view_module_version": "1.2.0",
            "bar_color": null,
            "_model_module": "@jupyter-widgets/controls"
          }
        },
        "8907d7c1f1654cb890088f01d032af45": {
          "model_module": "@jupyter-widgets/base",
          "model_name": "LayoutModel",
          "state": {
            "_view_name": "LayoutView",
            "grid_template_rows": null,
            "right": null,
            "justify_content": null,
            "_view_module": "@jupyter-widgets/base",
            "overflow": null,
            "_model_module_version": "1.2.0",
            "_view_count": null,
            "flex_flow": null,
            "width": null,
            "min_width": null,
            "border": null,
            "align_items": null,
            "bottom": null,
            "_model_module": "@jupyter-widgets/base",
            "top": null,
            "grid_column": null,
            "overflow_y": null,
            "overflow_x": null,
            "grid_auto_flow": null,
            "grid_area": null,
            "grid_template_columns": null,
            "flex": null,
            "_model_name": "LayoutModel",
            "justify_items": null,
            "grid_row": null,
            "max_height": null,
            "align_content": null,
            "visibility": null,
            "align_self": null,
            "height": null,
            "min_height": null,
            "padding": null,
            "grid_auto_rows": null,
            "grid_gap": null,
            "max_width": null,
            "order": null,
            "_view_module_version": "1.2.0",
            "grid_template_areas": null,
            "object_position": null,
            "object_fit": null,
            "grid_auto_columns": null,
            "margin": null,
            "display": null,
            "left": null
          }
        },
        "7b5897821e5849a49fd66225053167d2": {
          "model_module": "@jupyter-widgets/controls",
          "model_name": "DescriptionStyleModel",
          "state": {
            "_view_name": "StyleView",
            "_model_name": "DescriptionStyleModel",
            "description_width": "",
            "_view_module": "@jupyter-widgets/base",
            "_model_module_version": "1.5.0",
            "_view_count": null,
            "_view_module_version": "1.2.0",
            "_model_module": "@jupyter-widgets/controls"
          }
        },
        "508ecd3813e74f41a9acc22c4f350335": {
          "model_module": "@jupyter-widgets/base",
          "model_name": "LayoutModel",
          "state": {
            "_view_name": "LayoutView",
            "grid_template_rows": null,
            "right": null,
            "justify_content": null,
            "_view_module": "@jupyter-widgets/base",
            "overflow": null,
            "_model_module_version": "1.2.0",
            "_view_count": null,
            "flex_flow": null,
            "width": null,
            "min_width": null,
            "border": null,
            "align_items": null,
            "bottom": null,
            "_model_module": "@jupyter-widgets/base",
            "top": null,
            "grid_column": null,
            "overflow_y": null,
            "overflow_x": null,
            "grid_auto_flow": null,
            "grid_area": null,
            "grid_template_columns": null,
            "flex": null,
            "_model_name": "LayoutModel",
            "justify_items": null,
            "grid_row": null,
            "max_height": null,
            "align_content": null,
            "visibility": null,
            "align_self": null,
            "height": null,
            "min_height": null,
            "padding": null,
            "grid_auto_rows": null,
            "grid_gap": null,
            "max_width": null,
            "order": null,
            "_view_module_version": "1.2.0",
            "grid_template_areas": null,
            "object_position": null,
            "object_fit": null,
            "grid_auto_columns": null,
            "margin": null,
            "display": null,
            "left": null
          }
        }
      }
    }
  },
  "cells": [
    {
      "cell_type": "markdown",
      "metadata": {
        "id": "oAuRT75GdLFw"
      },
      "source": [
        "# Ungraded Lab: Cats vs. Dogs Class Activation Maps\n",
        "\n",
        "You will again practice with CAMs in this lab and this time there will only be two classes: Cats and Dogs. You will be revisiting this exercise in this week's programming assignment so it's best if you become familiar with the steps discussed here, particularly in preprocessing the image and building the model."
      ]
    },
    {
      "cell_type": "markdown",
      "metadata": {
        "id": "9rK94t33nwDC"
      },
      "source": [
        "## Imports"
      ]
    },
    {
      "cell_type": "code",
      "metadata": {
        "id": "zSyMHuCVys-O"
      },
      "source": [
        "import tensorflow_datasets as tfds\n",
        "import tensorflow as tf\n",
        "\n",
        "import keras\n",
        "from keras.models import Sequential,Model\n",
        "from keras.layers import Dense,Conv2D,Flatten,MaxPooling2D,GlobalAveragePooling2D\n",
        "from keras.utils import plot_model\n",
        "\n",
        "import numpy as np\n",
        "import matplotlib.pyplot as plt\n",
        "import scipy as sp\n",
        "import cv2"
      ],
      "execution_count": 1,
      "outputs": []
    },
    {
      "cell_type": "markdown",
      "metadata": {
        "id": "6Un5nFWgnyem"
      },
      "source": [
        "## Download and Prepare the Dataset\n",
        "\n",
        "We will use the [Cats vs Dogs](https://www.tensorflow.org/datasets/catalog/cats_vs_dogs) dataset and we can load it via Tensorflow Datasets. The images are labeled 0 for cats and 1 for dogs."
      ]
    },
    {
      "cell_type": "code",
      "metadata": {
        "id": "01974419yy5W",
        "colab": {
          "base_uri": "https://localhost:8080/",
          "height": 269,
          "referenced_widgets": [
            "171912c8bb1b4ce19ee8344522142c8b",
            "68f5c65775164249956352d00f91b6a2",
            "d08e7e0ca31f442aa920f253c62da211",
            "680f3c045008436a9b27ad05fafa9fdb",
            "8b6f3facb72a4a1cb6dcbc0eca488c0d",
            "254064dad9ba40b6ba1a3910eefd73b9",
            "4f65bddbc0c24c2db31d111589aec347",
            "c4eaf6f3f9504f99a4985c8e025583b4",
            "312e58350ec84d82bfb6e5a1540fee65",
            "0ef457dca03443c5b679872cb734b3a8",
            "a66484544b1a43ac9a554b328245cd17",
            "ce1c18350f744da0a21d1ff3435d83db",
            "0fa6906d2cab4669a5ba4ad6d05f4294",
            "b0f766b8ce934fde9f6233a4b239f1a2",
            "7d809f8e06a34eb282c4fe2b8e7c181e",
            "1f0cea94ac634f8b8f0ac20bb22116dc",
            "7d76406a6429448a86a5b5da80e5f54e",
            "6215e2e3c9044e9590c5945d83aa8bc0",
            "bb5c8d7136a7495fadb5333729ca7306",
            "1ca79d660dfe474db62d67696bcad1c9",
            "dab22a5fc50a45d6b032f332be1af505",
            "e16b65af63774a2db6b28ae50dc820e4",
            "426052e32e2b4aa9ab855d7557edf5b7",
            "3d6c50d435df4cfba5c28c1ff857c4d3",
            "da2d7adc00104172bbc5f55de740afd5",
            "e89a124ea84c4b72842050465d349adb",
            "6e26403190ae4a198d0ee783c50b48c1",
            "f44d327c9ae84ff79b425c4749235506",
            "8145beef87f74a70959d3ea2018accf3",
            "8907d7c1f1654cb890088f01d032af45",
            "7b5897821e5849a49fd66225053167d2",
            "508ecd3813e74f41a9acc22c4f350335"
          ]
        },
        "outputId": "822d3344-43ef-4491-e14c-363b470c436d"
      },
      "source": [
        "train_data = tfds.load('cats_vs_dogs', split='train[:80%]', as_supervised=True)\n",
        "validation_data = tfds.load('cats_vs_dogs', split='train[80%:90%]', as_supervised=True)\n",
        "test_data = tfds.load('cats_vs_dogs', split='train[-10%:]', as_supervised=True)"
      ],
      "execution_count": 2,
      "outputs": [
        {
          "output_type": "stream",
          "text": [
            "\u001b[1mDownloading and preparing dataset cats_vs_dogs/4.0.0 (download: 786.68 MiB, generated: Unknown size, total: 786.68 MiB) to /root/tensorflow_datasets/cats_vs_dogs/4.0.0...\u001b[0m\n"
          ],
          "name": "stdout"
        },
        {
          "output_type": "display_data",
          "data": {
            "application/vnd.jupyter.widget-view+json": {
              "model_id": "171912c8bb1b4ce19ee8344522142c8b",
              "version_minor": 0,
              "version_major": 2
            },
            "text/plain": [
              "HBox(children=(FloatProgress(value=1.0, bar_style='info', description='Dl Completed...', max=1.0, style=Progre…"
            ]
          },
          "metadata": {
            "tags": []
          }
        },
        {
          "output_type": "display_data",
          "data": {
            "application/vnd.jupyter.widget-view+json": {
              "model_id": "312e58350ec84d82bfb6e5a1540fee65",
              "version_minor": 0,
              "version_major": 2
            },
            "text/plain": [
              "HBox(children=(FloatProgress(value=1.0, bar_style='info', description='Dl Size...', max=1.0, style=ProgressSty…"
            ]
          },
          "metadata": {
            "tags": []
          }
        },
        {
          "output_type": "stream",
          "text": [
            "\n",
            "\n",
            "\n",
            "\n"
          ],
          "name": "stdout"
        },
        {
          "output_type": "display_data",
          "data": {
            "application/vnd.jupyter.widget-view+json": {
              "model_id": "7d76406a6429448a86a5b5da80e5f54e",
              "version_minor": 0,
              "version_major": 2
            },
            "text/plain": [
              "HBox(children=(FloatProgress(value=1.0, bar_style='info', max=1.0), HTML(value='')))"
            ]
          },
          "metadata": {
            "tags": []
          }
        },
        {
          "output_type": "stream",
          "text": [
            "WARNING:absl:1738 images were corrupted and were skipped\n"
          ],
          "name": "stderr"
        },
        {
          "output_type": "stream",
          "text": [
            "\rShuffling and writing examples to /root/tensorflow_datasets/cats_vs_dogs/4.0.0.incompleteALOIQF/cats_vs_dogs-train.tfrecord\n"
          ],
          "name": "stdout"
        },
        {
          "output_type": "display_data",
          "data": {
            "application/vnd.jupyter.widget-view+json": {
              "model_id": "da2d7adc00104172bbc5f55de740afd5",
              "version_minor": 0,
              "version_major": 2
            },
            "text/plain": [
              "HBox(children=(FloatProgress(value=0.0, max=23262.0), HTML(value='')))"
            ]
          },
          "metadata": {
            "tags": []
          }
        },
        {
          "output_type": "stream",
          "text": [
            "\u001b[1mDataset cats_vs_dogs downloaded and prepared to /root/tensorflow_datasets/cats_vs_dogs/4.0.0. Subsequent calls will reuse this data.\u001b[0m\n"
          ],
          "name": "stdout"
        }
      ]
    },
    {
      "cell_type": "markdown",
      "metadata": {
        "id": "fIFfQ3I3oc1g"
      },
      "source": [
        "The cell below will preprocess the images and create batches before feeding it to our model."
      ]
    },
    {
      "cell_type": "code",
      "metadata": {
        "id": "ViiwPuL8aP_A"
      },
      "source": [
        "def augment_images(image, label):\n",
        "  \n",
        "  # cast to float\n",
        "  image = tf.cast(image, tf.float32)\n",
        "  # normalize the pixel values\n",
        "  image = (image/255)\n",
        "  # resize to 300 x 300\n",
        "  image = tf.image.resize(image,(300,300))\n",
        "\n",
        "  return image, label\n",
        "\n",
        "# use the utility function above to preprocess the images\n",
        "augmented_training_data = train_data.map(augment_images)\n",
        "\n",
        "# shuffle and create batches before training\n",
        "train_batches = augmented_training_data.shuffle(1024).batch(32)"
      ],
      "execution_count": 4,
      "outputs": []
    },
    {
      "cell_type": "markdown",
      "metadata": {
        "id": "xEkePAHippbY"
      },
      "source": [
        "## Build the classifier\n",
        "\n",
        "This will look familiar to you because it is almost identical to the previous model we built. The key difference is the output is just one unit that is sigmoid activated. This is because we're only dealing with two classes."
      ]
    },
    {
      "cell_type": "code",
      "metadata": {
        "id": "QyCoMd93zpc_",
        "colab": {
          "base_uri": "https://localhost:8080/"
        },
        "outputId": "f8c02928-7581-4810-8b76-f08f070bf3e8"
      },
      "source": [
        "model = Sequential()\n",
        "model.add(Conv2D(16,input_shape=(300,300,3),kernel_size=(3,3),activation='relu',padding='same'))\n",
        "model.add(MaxPooling2D(pool_size=(2,2)))\n",
        "\n",
        "model.add(Conv2D(32,kernel_size=(3,3),activation='relu',padding='same'))\n",
        "model.add(MaxPooling2D(pool_size=(2,2)))\n",
        "\n",
        "model.add(Conv2D(64,kernel_size=(3,3),activation='relu',padding='same'))\n",
        "model.add(MaxPooling2D(pool_size=(2,2)))\n",
        "\n",
        "model.add(Conv2D(128,kernel_size=(3,3),activation='relu',padding='same'))\n",
        "model.add(GlobalAveragePooling2D())\n",
        "model.add(Dense(1,activation='sigmoid'))\n",
        "\n",
        "model.summary()"
      ],
      "execution_count": 5,
      "outputs": [
        {
          "output_type": "stream",
          "text": [
            "Model: \"sequential\"\n",
            "_________________________________________________________________\n",
            "Layer (type)                 Output Shape              Param #   \n",
            "=================================================================\n",
            "conv2d (Conv2D)              (None, 300, 300, 16)      448       \n",
            "_________________________________________________________________\n",
            "max_pooling2d (MaxPooling2D) (None, 150, 150, 16)      0         \n",
            "_________________________________________________________________\n",
            "conv2d_1 (Conv2D)            (None, 150, 150, 32)      4640      \n",
            "_________________________________________________________________\n",
            "max_pooling2d_1 (MaxPooling2 (None, 75, 75, 32)        0         \n",
            "_________________________________________________________________\n",
            "conv2d_2 (Conv2D)            (None, 75, 75, 64)        18496     \n",
            "_________________________________________________________________\n",
            "max_pooling2d_2 (MaxPooling2 (None, 37, 37, 64)        0         \n",
            "_________________________________________________________________\n",
            "conv2d_3 (Conv2D)            (None, 37, 37, 128)       73856     \n",
            "_________________________________________________________________\n",
            "global_average_pooling2d (Gl (None, 128)               0         \n",
            "_________________________________________________________________\n",
            "dense (Dense)                (None, 1)                 129       \n",
            "=================================================================\n",
            "Total params: 97,569\n",
            "Trainable params: 97,569\n",
            "Non-trainable params: 0\n",
            "_________________________________________________________________\n"
          ],
          "name": "stdout"
        }
      ]
    },
    {
      "cell_type": "markdown",
      "metadata": {
        "id": "-k5CLZEOqev3"
      },
      "source": [
        "The loss can be adjusted from last time to deal with just two classes. For that, we pick `binary_crossentropy`."
      ]
    },
    {
      "cell_type": "code",
      "metadata": {
        "id": "MEqbqodQqeBV",
        "colab": {
          "base_uri": "https://localhost:8080/"
        },
        "outputId": "9c9eb28d-6b94-45b8-b923-435201ea8206"
      },
      "source": [
        "# Training will take around 30 minutes to complete using a GPU. Time for a break!\n",
        "\n",
        "model.compile(loss='binary_crossentropy',metrics=['accuracy'],optimizer=tf.keras.optimizers.RMSprop(lr=0.001))\n",
        "model.fit(train_batches,epochs=25)"
      ],
      "execution_count": 6,
      "outputs": [
        {
          "output_type": "stream",
          "text": [
            "Epoch 1/25\n",
            "582/582 [==============================] - 98s 111ms/step - loss: 0.6781 - accuracy: 0.5520\n",
            "Epoch 2/25\n",
            "582/582 [==============================] - 65s 109ms/step - loss: 0.6452 - accuracy: 0.6163\n",
            "Epoch 3/25\n",
            "582/582 [==============================] - 66s 110ms/step - loss: 0.6176 - accuracy: 0.6657\n",
            "Epoch 4/25\n",
            "582/582 [==============================] - 66s 110ms/step - loss: 0.5960 - accuracy: 0.6831\n",
            "Epoch 5/25\n",
            "582/582 [==============================] - 66s 110ms/step - loss: 0.5749 - accuracy: 0.7095\n",
            "Epoch 6/25\n",
            "582/582 [==============================] - 66s 110ms/step - loss: 0.5618 - accuracy: 0.7140\n",
            "Epoch 7/25\n",
            "582/582 [==============================] - 66s 110ms/step - loss: 0.5527 - accuracy: 0.7250\n",
            "Epoch 8/25\n",
            "582/582 [==============================] - 66s 110ms/step - loss: 0.5456 - accuracy: 0.7322\n",
            "Epoch 9/25\n",
            "582/582 [==============================] - 66s 111ms/step - loss: 0.5344 - accuracy: 0.7399\n",
            "Epoch 10/25\n",
            "582/582 [==============================] - 66s 110ms/step - loss: 0.5265 - accuracy: 0.7493\n",
            "Epoch 11/25\n",
            "582/582 [==============================] - 66s 110ms/step - loss: 0.5182 - accuracy: 0.7545\n",
            "Epoch 12/25\n",
            "582/582 [==============================] - 66s 111ms/step - loss: 0.5081 - accuracy: 0.7607\n",
            "Epoch 13/25\n",
            "582/582 [==============================] - 66s 110ms/step - loss: 0.4959 - accuracy: 0.7661\n",
            "Epoch 14/25\n",
            "582/582 [==============================] - 67s 112ms/step - loss: 0.4953 - accuracy: 0.7737\n",
            "Epoch 15/25\n",
            "582/582 [==============================] - 66s 110ms/step - loss: 0.4870 - accuracy: 0.7784\n",
            "Epoch 16/25\n",
            "582/582 [==============================] - 66s 111ms/step - loss: 0.4770 - accuracy: 0.7811\n",
            "Epoch 17/25\n",
            "582/582 [==============================] - 67s 111ms/step - loss: 0.4934 - accuracy: 0.7900\n",
            "Epoch 18/25\n",
            "582/582 [==============================] - 66s 110ms/step - loss: 0.4611 - accuracy: 0.7855\n",
            "Epoch 19/25\n",
            "582/582 [==============================] - 66s 110ms/step - loss: 0.4803 - accuracy: 0.7891\n",
            "Epoch 20/25\n",
            "582/582 [==============================] - 66s 110ms/step - loss: 0.4574 - accuracy: 0.7947\n",
            "Epoch 21/25\n",
            "582/582 [==============================] - 66s 110ms/step - loss: 0.4517 - accuracy: 0.8062\n",
            "Epoch 22/25\n",
            "582/582 [==============================] - 66s 110ms/step - loss: 0.4564 - accuracy: 0.7972\n",
            "Epoch 23/25\n",
            "582/582 [==============================] - 66s 110ms/step - loss: 0.4507 - accuracy: 0.8026\n",
            "Epoch 24/25\n",
            "582/582 [==============================] - 66s 110ms/step - loss: 0.4439 - accuracy: 0.8037\n",
            "Epoch 25/25\n",
            "582/582 [==============================] - 66s 110ms/step - loss: 0.4381 - accuracy: 0.8085\n"
          ],
          "name": "stdout"
        },
        {
          "output_type": "execute_result",
          "data": {
            "text/plain": [
              "<tensorflow.python.keras.callbacks.History at 0x7fa705187890>"
            ]
          },
          "metadata": {
            "tags": []
          },
          "execution_count": 6
        }
      ]
    },
    {
      "cell_type": "markdown",
      "metadata": {
        "id": "_7n-Z8SMrNPc"
      },
      "source": [
        "## Building the CAM model\n",
        "\n",
        "You will follow the same steps as before in generating the class activation maps."
      ]
    },
    {
      "cell_type": "code",
      "metadata": {
        "id": "aJGvrHIu0Vnt",
        "colab": {
          "base_uri": "https://localhost:8080/"
        },
        "outputId": "a418f2f8-ded9-44d6-e142-062710963457"
      },
      "source": [
        "gap_weights = model.layers[-1].get_weights()[0]\n",
        "gap_weights.shape\n",
        "\n",
        "cam_model  = Model(inputs=model.input,outputs=(model.layers[-3].output,model.layers[-1].output))\n",
        "cam_model.summary()"
      ],
      "execution_count": 7,
      "outputs": [
        {
          "output_type": "stream",
          "text": [
            "Model: \"model\"\n",
            "_________________________________________________________________\n",
            "Layer (type)                 Output Shape              Param #   \n",
            "=================================================================\n",
            "conv2d_input (InputLayer)    [(None, 300, 300, 3)]     0         \n",
            "_________________________________________________________________\n",
            "conv2d (Conv2D)              (None, 300, 300, 16)      448       \n",
            "_________________________________________________________________\n",
            "max_pooling2d (MaxPooling2D) (None, 150, 150, 16)      0         \n",
            "_________________________________________________________________\n",
            "conv2d_1 (Conv2D)            (None, 150, 150, 32)      4640      \n",
            "_________________________________________________________________\n",
            "max_pooling2d_1 (MaxPooling2 (None, 75, 75, 32)        0         \n",
            "_________________________________________________________________\n",
            "conv2d_2 (Conv2D)            (None, 75, 75, 64)        18496     \n",
            "_________________________________________________________________\n",
            "max_pooling2d_2 (MaxPooling2 (None, 37, 37, 64)        0         \n",
            "_________________________________________________________________\n",
            "conv2d_3 (Conv2D)            (None, 37, 37, 128)       73856     \n",
            "_________________________________________________________________\n",
            "global_average_pooling2d (Gl (None, 128)               0         \n",
            "_________________________________________________________________\n",
            "dense (Dense)                (None, 1)                 129       \n",
            "=================================================================\n",
            "Total params: 97,569\n",
            "Trainable params: 97,569\n",
            "Non-trainable params: 0\n",
            "_________________________________________________________________\n"
          ],
          "name": "stdout"
        }
      ]
    },
    {
      "cell_type": "code",
      "metadata": {
        "id": "ZcyzeiaO0pQs"
      },
      "source": [
        "def show_cam(image_value, features, results):\n",
        "  '''\n",
        "  Displays the class activation map of an image\n",
        "\n",
        "  Args:\n",
        "    image_value (tensor) -- preprocessed input image with size 300 x 300\n",
        "    features (array) -- features of the image, shape (1, 37, 37, 128)\n",
        "    results (array) -- output of the sigmoid layer\n",
        "  '''\n",
        "\n",
        "  # there is only one image in the batch so we index at `0`\n",
        "  features_for_img = features[0]\n",
        "  prediction = results[0]\n",
        "\n",
        "  # there is only one unit in the output so we get the weights connected to it\n",
        "  class_activation_weights = gap_weights[:,0]\n",
        "\n",
        "  # upsample to the image size\n",
        "  class_activation_features = sp.ndimage.zoom(features_for_img, (300/37, 300/37, 1), order=2)\n",
        "  \n",
        "  # compute the intensity of each feature in the CAM\n",
        "  cam_output  = np.dot(class_activation_features,class_activation_weights)\n",
        "\n",
        "  # visualize the results\n",
        "  print(f'sigmoid output: {results}')\n",
        "  print(f\"prediction: {'dog' if round(results[0][0]) else 'cat'}\")\n",
        "  plt.figure(figsize=(8,8))\n",
        "  plt.imshow(cam_output, cmap='jet', alpha=0.5)\n",
        "  plt.imshow(tf.squeeze(image_value), alpha=0.5)\n",
        "  plt.show()\n"
      ],
      "execution_count": 8,
      "outputs": []
    },
    {
      "cell_type": "markdown",
      "metadata": {
        "id": "fHr2c5qEsKNi"
      },
      "source": [
        "## Testing the Model\n",
        "\n",
        "Let's download a few images and see how the class activation maps look like."
      ]
    },
    {
      "cell_type": "code",
      "metadata": {
        "id": "3dlTIG-wh9wV",
        "colab": {
          "base_uri": "https://localhost:8080/"
        },
        "outputId": "ad4bb527-d633-47d5-bd9c-cc79770b0c53"
      },
      "source": [
        "!wget -O cat1.jpg https://storage.googleapis.com/laurencemoroney-blog.appspot.com/MLColabImages/cat1.jpg\n",
        "!wget -O cat2.jpg https://storage.googleapis.com/laurencemoroney-blog.appspot.com/MLColabImages/cat2.jpg\n",
        "!wget -O catanddog.jpg https://storage.googleapis.com/laurencemoroney-blog.appspot.com/MLColabImages/catanddog.jpg\n",
        "!wget -O dog1.jpg https://storage.googleapis.com/laurencemoroney-blog.appspot.com/MLColabImages/dog1.jpg\n",
        "!wget -O dog2.jpg https://storage.googleapis.com/laurencemoroney-blog.appspot.com/MLColabImages/dog2.jpg"
      ],
      "execution_count": 9,
      "outputs": [
        {
          "output_type": "stream",
          "text": [
            "--2021-03-25 22:44:06--  https://storage.googleapis.com/laurencemoroney-blog.appspot.com/MLColabImages/cat1.jpg\n",
            "Resolving storage.googleapis.com (storage.googleapis.com)... 172.217.13.80, 172.217.13.240, 172.217.15.80, ...\n",
            "Connecting to storage.googleapis.com (storage.googleapis.com)|172.217.13.80|:443... connected.\n",
            "HTTP request sent, awaiting response... 200 OK\n",
            "Length: 414826 (405K) [image/jpeg]\n",
            "Saving to: ‘cat1.jpg’\n",
            "\n",
            "\rcat1.jpg              0%[                    ]       0  --.-KB/s               \rcat1.jpg            100%[===================>] 405.10K  --.-KB/s    in 0.003s  \n",
            "\n",
            "2021-03-25 22:44:06 (120 MB/s) - ‘cat1.jpg’ saved [414826/414826]\n",
            "\n",
            "--2021-03-25 22:44:06--  https://storage.googleapis.com/laurencemoroney-blog.appspot.com/MLColabImages/cat2.jpg\n",
            "Resolving storage.googleapis.com (storage.googleapis.com)... 172.253.115.128, 172.253.122.128, 172.217.2.112, ...\n",
            "Connecting to storage.googleapis.com (storage.googleapis.com)|172.253.115.128|:443... connected.\n",
            "HTTP request sent, awaiting response... 200 OK\n",
            "Length: 599639 (586K) [image/jpeg]\n",
            "Saving to: ‘cat2.jpg’\n",
            "\n",
            "cat2.jpg            100%[===================>] 585.58K  --.-KB/s    in 0.006s  \n",
            "\n",
            "2021-03-25 22:44:06 (94.8 MB/s) - ‘cat2.jpg’ saved [599639/599639]\n",
            "\n",
            "--2021-03-25 22:44:07--  https://storage.googleapis.com/laurencemoroney-blog.appspot.com/MLColabImages/catanddog.jpg\n",
            "Resolving storage.googleapis.com (storage.googleapis.com)... 172.217.12.240, 172.217.164.144, 142.250.73.240, ...\n",
            "Connecting to storage.googleapis.com (storage.googleapis.com)|172.217.12.240|:443... connected.\n",
            "HTTP request sent, awaiting response... 200 OK\n",
            "Length: 561943 (549K) [image/jpeg]\n",
            "Saving to: ‘catanddog.jpg’\n",
            "\n",
            "catanddog.jpg       100%[===================>] 548.77K  --.-KB/s    in 0.003s  \n",
            "\n",
            "2021-03-25 22:44:07 (156 MB/s) - ‘catanddog.jpg’ saved [561943/561943]\n",
            "\n",
            "--2021-03-25 22:44:07--  https://storage.googleapis.com/laurencemoroney-blog.appspot.com/MLColabImages/dog1.jpg\n",
            "Resolving storage.googleapis.com (storage.googleapis.com)... 172.253.62.128, 172.217.164.176, 172.253.115.128, ...\n",
            "Connecting to storage.googleapis.com (storage.googleapis.com)|172.253.62.128|:443... connected.\n",
            "HTTP request sent, awaiting response... 200 OK\n",
            "Length: 338769 (331K) [image/jpeg]\n",
            "Saving to: ‘dog1.jpg’\n",
            "\n",
            "dog1.jpg            100%[===================>] 330.83K  --.-KB/s    in 0.002s  \n",
            "\n",
            "2021-03-25 22:44:07 (162 MB/s) - ‘dog1.jpg’ saved [338769/338769]\n",
            "\n",
            "--2021-03-25 22:44:07--  https://storage.googleapis.com/laurencemoroney-blog.appspot.com/MLColabImages/dog2.jpg\n",
            "Resolving storage.googleapis.com (storage.googleapis.com)... 142.250.73.240, 172.217.7.240, 172.217.8.16, ...\n",
            "Connecting to storage.googleapis.com (storage.googleapis.com)|142.250.73.240|:443... connected.\n",
            "HTTP request sent, awaiting response... 200 OK\n",
            "Length: 494803 (483K) [image/jpeg]\n",
            "Saving to: ‘dog2.jpg’\n",
            "\n",
            "dog2.jpg            100%[===================>] 483.21K  --.-KB/s    in 0.004s  \n",
            "\n",
            "2021-03-25 22:44:07 (130 MB/s) - ‘dog2.jpg’ saved [494803/494803]\n",
            "\n"
          ],
          "name": "stdout"
        }
      ]
    },
    {
      "cell_type": "code",
      "metadata": {
        "id": "vcbx69oaiYWZ",
        "colab": {
          "base_uri": "https://localhost:8080/"
        },
        "outputId": "27f7e5c6-2b29-4e72-fefb-1955fe6ba72c"
      },
      "source": [
        "# utility function to preprocess an image and show the CAM\n",
        "def convert_and_classify(image):\n",
        "\n",
        "  # load the image\n",
        "  img = cv2.imread(image)\n",
        "\n",
        "  # preprocess the image before feeding it to the model\n",
        "  img = cv2.resize(img, (300,300)) / 255.0\n",
        "\n",
        "  # add a batch dimension because the model expects it\n",
        "  tensor_image = np.expand_dims(img, axis=0)\n",
        "\n",
        "  # get the features and prediction\n",
        "  features,results = cam_model.predict(tensor_image)\n",
        "  \n",
        "  # generate the CAM\n",
        "  show_cam(tensor_image, features, results)\n",
        "\n",
        "convert_and_classify('cat1.jpg')\n",
        "convert_and_classify('cat2.jpg')\n",
        "convert_and_classify('catanddog.jpg')\n",
        "convert_and_classify('dog1.jpg')\n",
        "convert_and_classify('dog2.jpg')"
      ],
      "execution_count": null,
      "outputs": [
        {
          "output_type": "stream",
          "text": [
            "sigmoid output: [[0.01443974]]\n",
            "prediction: cat\n"
          ],
          "name": "stdout"
        }
      ]
    },
    {
      "cell_type": "markdown",
      "metadata": {
        "id": "5OwTrzHa6F9P"
      },
      "source": [
        "Let's also try it with some of the test images before we make some observations."
      ]
    },
    {
      "cell_type": "code",
      "metadata": {
        "id": "YByJ8J1008Ms"
      },
      "source": [
        "# preprocess the test images\n",
        "augmented_test_data = test_data.map(augment_images)\n",
        "test_batches = augmented_test_data.batch(1)\n",
        "\n",
        "\n",
        "for img, lbl in test_batches.take(5):\n",
        "  print(f\"ground truth: {'dog' if lbl else 'cat'}\")\n",
        "  features,results = cam_model.predict(img)\n",
        "  show_cam(img, features, results)"
      ],
      "execution_count": null,
      "outputs": []
    },
    {
      "cell_type": "markdown",
      "metadata": {
        "id": "KCkFD_Us2LvL"
      },
      "source": [
        "If your training reached 80% accuracy, you may notice from the images above that the presence of eyes and nose play a big part in determining a dog, while whiskers and a colar mostly point to a cat. Some can be misclassified based on the presence or absence of these features. This tells us that the model is not yet performing optimally and we need to tweak our process (e.g. add more data, train longer, use a different model, etc)."
      ]
    }
  ]
}